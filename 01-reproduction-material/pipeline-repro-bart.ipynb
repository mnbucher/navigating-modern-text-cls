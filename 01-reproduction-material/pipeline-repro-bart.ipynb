{
 "cells": [
  {
   "cell_type": "markdown",
   "id": "78bfd2df",
   "metadata": {},
   "source": [
    "# Replication Pipeline for BART results\n",
    "\n",
    "This notebook contains the code to reproduce the BART results presented in our paper. To run this code, follow the instructions below. "
   ]
  },
  {
   "cell_type": "code",
   "execution_count": null,
   "id": "16853ac3",
   "metadata": {},
   "outputs": [],
   "source": [
    "# Install packages (only required if not already installed)\n",
    "# !pip install transformers\n",
    "# !pip install torch\n",
    "# !pip install torchmetrics"
   ]
  },
  {
   "cell_type": "code",
   "execution_count": null,
   "id": "70b180a9-9fe2-40c8-8456-027e3f97f8b5",
   "metadata": {
    "scrolled": true
   },
   "outputs": [],
   "source": [
    "import transformers\n",
    "import torch\n",
    "import numpy as np\n",
    "import pandas  as pd\n",
    "from transformers import pipeline\n",
    "import torch\n",
    "from tqdm import tqdm\n",
    "\n",
    "from src.finetuning import compute_and_print_metrics_for_dataset_b\n",
    "\n",
    "# ************************************************ #\n",
    "# TODO: Choose dataset for reproduction from the four case studies below\n",
    "# ************************************************ #\n",
    "\n",
    "# case study 1\n",
    "DATASET = \"01-nyt-sentiment\"\n",
    "zero_shot_labels = [\"negative sentiment\", \"positive sentiment\"]\n",
    "dataset_sentences = f\"./data/{DATASET}/all-x.csv\"\n",
    "\n",
    "# ************************************************ #\n",
    "\n",
    "# case study 2\n",
    "# DATASET = \"02-twitter-stance\"\n",
    "# zero_shot_labels = [\"negative attitudinal stance towards\", \"positive attitudinal stance towards\"]\n",
    "# dataset_sentences = f\"./data/{DATASET}/all-x.csv\"\n",
    "\n",
    "# ************************************************ #\n",
    "\n",
    "# case study 3\n",
    "# DATASET = \"03-emotion-angry\"\n",
    "# zero_shot_labels = [\"Angry\", \"Non-Angry\"]\n",
    "# dataset_sentences = f\"./data/{DATASET}/all-x.csv\"\n",
    "# dataset_sentences = f\"./data/{DATASET}/all-x-translated.csv\"\n",
    "\n",
    "# ************************************************ #\n",
    "\n",
    "# case study 4\n",
    "# DATASET = \"04-brexit-stance\"\n",
    "# zero_shot_labels = [\"Neutral towards Leave demands\", \"Pro-Leave demands\", \"Very Pro-Leave demands\"]\n",
    "# dataset_sentences = f\"./data/{DATASET}/all-x.csv\"\n",
    "\n",
    "# ************************************************ #\n",
    "\n",
    "MODEL_NAME = \"facebook/bart-large-mnli\"\n",
    "\n",
    "def label2idx(label_Name):\n",
    "    return zero_shot_labels.index(label_Name)\n",
    "\n",
    "dataset_labels = f\"./data/{DATASET}/all-y.csv\"\n",
    "\n",
    "all_x = np.squeeze(np.array(pd.read_csv(dataset_sentences, header=None, sep='\\t\\t')))\n",
    "all_y = np.squeeze(np.array(pd.read_csv(dataset_labels, dtype=np.float32, header=None)))\n",
    "\n",
    "pipe = pipeline(\"zero-shot-classification\", model=MODEL_NAME, device=torch.cuda.current_device())\n",
    "\n",
    "n_samples = all_x.shape[0]\n",
    "all_y_pred = np.zeros(n_samples)\n",
    "\n",
    "for idx in tqdm(range(n_samples)):\n",
    "    \n",
    "    curr_x = all_x[idx]\n",
    "\n",
    "    output = pipe(curr_x, zero_shot_labels)\n",
    "        \n",
    "    curr_y_pred = label2idx(output.get(\"labels\")[0])\n",
    "\n",
    "    all_y_pred[idx] = curr_y_pred\n",
    "\n",
    "compute_and_print_metrics_for_dataset_b(all_y, [ all_y_pred ], None, \"\", False, True)"
   ]
  }
 ],
 "metadata": {
  "kernelspec": {
   "display_name": "Python 3 (ipykernel)",
   "language": "python",
   "name": "python3"
  },
  "language_info": {
   "codemirror_mode": {
    "name": "ipython",
    "version": 3
   },
   "file_extension": ".py",
   "mimetype": "text/x-python",
   "name": "python",
   "nbconvert_exporter": "python",
   "pygments_lexer": "ipython3",
   "version": "3.9.7"
  }
 },
 "nbformat": 4,
 "nbformat_minor": 5
}
